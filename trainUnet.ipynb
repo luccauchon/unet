{
 "cells": [
  {
   "cell_type": "code",
   "execution_count": 1,
   "metadata": {},
   "outputs": [
    {
     "name": "stderr",
     "output_type": "stream",
     "text": [
      "Using TensorFlow backend.\n"
     ]
    },
    {
     "name": "stdout",
     "output_type": "stream",
     "text": [
      "keras.__version__=2.2.4\n",
      "tf.__version__=1.12.0\n",
      "PIL.__version__=5.4.1\n",
      "np.__version__=1.16.2\n",
      "scipy.__version__=1.2.1\n",
      "Using GPU 2  Good luck...\n"
     ]
    }
   ],
   "source": [
    "import os\n",
    "os.environ[\"CUDA_VISIBLE_DEVICES\"] = \"2\"\n",
    "\n",
    "# set tf backend to allow memory to grow, instead of claiming everything\n",
    "import tensorflow as tf\n",
    "\n",
    "def get_session():\n",
    "    config = tf.ConfigProto()\n",
    "    config.gpu_options.allow_growth = True\n",
    "    return tf.Session(config=config)\n",
    "\n",
    "# set the modified tf session as backend in keras\n",
    "import keras\n",
    "keras.backend.tensorflow_backend.set_session(get_session())\n",
    "\n",
    "\n",
    "from model import *\n",
    "from data import *\n",
    "from keras import models\n",
    "from keras import layers\n",
    "from keras.layers import Input, Dense, Flatten, Reshape, Permute\n",
    "from keras.models import Model\n",
    "from keras.layers import Activation\n",
    "from keras.layers import Lambda\n",
    "import keras.backend as K\n",
    "import keras\n",
    "import PIL\n",
    "import scipy\n",
    "\n",
    "print ('keras.__version__='+str(keras.__version__))\n",
    "print ('tf.__version__='+str(tf.__version__))\n",
    "print ('PIL.__version__='+str(PIL.__version__))\n",
    "print ('np.__version__='+str(np.__version__))\n",
    "print ('scipy.__version__='+str(scipy.__version__))\n",
    "print ('Using GPU '+str(os.environ[\"CUDA_VISIBLE_DEVICES\"])+'  Good luck...')\n"
   ]
  },
  {
   "cell_type": "markdown",
   "metadata": {},
   "source": [
    "## Train your Unet with membrane data\n",
    "membrane data is in folder membrane/, it is a binary classification task.\n",
    "\n",
    "The input shape of image and mask are the same :(batch_size,rows,cols,channel = 1)"
   ]
  },
  {
   "cell_type": "markdown",
   "metadata": {},
   "source": [
    "### Train with data generator"
   ]
  },
  {
   "cell_type": "code",
   "execution_count": 2,
   "metadata": {},
   "outputs": [
    {
     "name": "stdout",
     "output_type": "stream",
     "text": [
      "Epoch 1/25\n",
      "Found 30 images belonging to 1 classes.\n",
      "Found 30 images belonging to 1 classes.\n",
      "2000/2000 [==============================] - 368s 184ms/step - loss: 0.1852 - acc: 0.9185\n",
      "\n",
      "Epoch 00001: loss improved from inf to 0.18520, saving model to unet_membrane.hdf5\n",
      "Epoch 2/25\n",
      "2000/2000 [==============================] - 358s 179ms/step - loss: 0.1020 - acc: 0.9555\n",
      "\n",
      "Epoch 00002: loss improved from 0.18520 to 0.10203, saving model to unet_membrane.hdf5\n",
      "Epoch 3/25\n",
      "2000/2000 [==============================] - 357s 179ms/step - loss: 0.0797 - acc: 0.9654\n",
      "\n",
      "Epoch 00003: loss improved from 0.10203 to 0.07973, saving model to unet_membrane.hdf5\n",
      "Epoch 4/25\n",
      "2000/2000 [==============================] - 357s 179ms/step - loss: 0.0689 - acc: 0.9701\n",
      "\n",
      "Epoch 00004: loss improved from 0.07973 to 0.06886, saving model to unet_membrane.hdf5\n",
      "Epoch 5/25\n",
      "2000/2000 [==============================] - 358s 179ms/step - loss: 0.0621 - acc: 0.9730\n",
      "\n",
      "Epoch 00005: loss improved from 0.06886 to 0.06204, saving model to unet_membrane.hdf5\n",
      "Epoch 6/25\n",
      "2000/2000 [==============================] - 357s 179ms/step - loss: 0.0571 - acc: 0.9752\n",
      "\n",
      "Epoch 00006: loss improved from 0.06204 to 0.05715, saving model to unet_membrane.hdf5\n",
      "Epoch 7/25\n",
      "2000/2000 [==============================] - 358s 179ms/step - loss: 0.0535 - acc: 0.9767\n",
      "\n",
      "Epoch 00007: loss improved from 0.05715 to 0.05354, saving model to unet_membrane.hdf5\n",
      "Epoch 8/25\n",
      "2000/2000 [==============================] - 358s 179ms/step - loss: 0.0507 - acc: 0.9780\n",
      "\n",
      "Epoch 00008: loss improved from 0.05354 to 0.05067, saving model to unet_membrane.hdf5\n",
      "Epoch 9/25\n",
      "2000/2000 [==============================] - 357s 179ms/step - loss: 0.0483 - acc: 0.9790\n",
      "\n",
      "Epoch 00009: loss improved from 0.05067 to 0.04829, saving model to unet_membrane.hdf5\n",
      "Epoch 10/25\n",
      "2000/2000 [==============================] - 357s 179ms/step - loss: 0.0463 - acc: 0.9799\n",
      "\n",
      "Epoch 00010: loss improved from 0.04829 to 0.04631, saving model to unet_membrane.hdf5\n",
      "Epoch 11/25\n",
      "2000/2000 [==============================] - 358s 179ms/step - loss: 0.0445 - acc: 0.9806\n",
      "\n",
      "Epoch 00011: loss improved from 0.04631 to 0.04449, saving model to unet_membrane.hdf5\n",
      "Epoch 12/25\n",
      "2000/2000 [==============================] - 358s 179ms/step - loss: 0.0430 - acc: 0.9813\n",
      "\n",
      "Epoch 00012: loss improved from 0.04449 to 0.04302, saving model to unet_membrane.hdf5\n",
      "Epoch 13/25\n",
      "2000/2000 [==============================] - 357s 179ms/step - loss: 0.0417 - acc: 0.9819\n",
      "\n",
      "Epoch 00013: loss improved from 0.04302 to 0.04166, saving model to unet_membrane.hdf5\n",
      "Epoch 14/25\n",
      "2000/2000 [==============================] - 357s 178ms/step - loss: 0.0405 - acc: 0.9824\n",
      "\n",
      "Epoch 00014: loss improved from 0.04166 to 0.04048, saving model to unet_membrane.hdf5\n",
      "Epoch 15/25\n",
      "2000/2000 [==============================] - 357s 179ms/step - loss: 0.0393 - acc: 0.9829\n",
      "\n",
      "Epoch 00015: loss improved from 0.04048 to 0.03926, saving model to unet_membrane.hdf5\n",
      "Epoch 16/25\n",
      "2000/2000 [==============================] - 357s 179ms/step - loss: 0.0382 - acc: 0.9834\n",
      "\n",
      "Epoch 00016: loss improved from 0.03926 to 0.03822, saving model to unet_membrane.hdf5\n",
      "Epoch 17/25\n",
      "2000/2000 [==============================] - 357s 179ms/step - loss: 0.0372 - acc: 0.9838\n",
      "\n",
      "Epoch 00017: loss improved from 0.03822 to 0.03721, saving model to unet_membrane.hdf5\n",
      "Epoch 18/25\n",
      "2000/2000 [==============================] - 357s 178ms/step - loss: 0.0363 - acc: 0.9842\n",
      "\n",
      "Epoch 00018: loss improved from 0.03721 to 0.03632, saving model to unet_membrane.hdf5\n",
      "Epoch 19/25\n",
      "2000/2000 [==============================] - 358s 179ms/step - loss: 0.0355 - acc: 0.9846\n",
      "\n",
      "Epoch 00019: loss improved from 0.03632 to 0.03548, saving model to unet_membrane.hdf5\n",
      "Epoch 20/25\n",
      "2000/2000 [==============================] - 357s 179ms/step - loss: 0.0346 - acc: 0.9850\n",
      "\n",
      "Epoch 00020: loss improved from 0.03548 to 0.03460, saving model to unet_membrane.hdf5\n",
      "Epoch 21/25\n",
      "2000/2000 [==============================] - 357s 179ms/step - loss: 0.0340 - acc: 0.9853\n",
      "\n",
      "Epoch 00021: loss improved from 0.03460 to 0.03395, saving model to unet_membrane.hdf5\n",
      "Epoch 22/25\n",
      "2000/2000 [==============================] - 357s 179ms/step - loss: 0.0333 - acc: 0.9856\n",
      "\n",
      "Epoch 00022: loss improved from 0.03395 to 0.03325, saving model to unet_membrane.hdf5\n"
     ]
    },
    {
     "data": {
      "text/plain": [
       "<keras.callbacks.History at 0x2b0eb9381eb8>"
      ]
     },
     "execution_count": 2,
     "metadata": {},
     "output_type": "execute_result"
    }
   ],
   "source": [
    "data_gen_args = dict(rotation_range=0.2,\n",
    "                    width_shift_range=0.05,\n",
    "                    height_shift_range=0.05,\n",
    "                    shear_range=0.05,\n",
    "                    zoom_range=0.05,\n",
    "                    horizontal_flip=True,\n",
    "                    fill_mode='nearest')\n",
    "\n",
    "myGene = trainGenerator(8,'data/membrane/train','image','label',data_gen_args,save_to_dir = None)\n",
    "\n",
    "model = unet()\n",
    "\n",
    "model_checkpoint = ModelCheckpoint('unet_membrane.hdf5', monitor='loss',verbose=1, save_best_only=True)\n",
    "reduceLROnPlateau = keras.callbacks.ReduceLROnPlateau(monitor='loss', factor=0.2, patience=3, verbose=0, \n",
    "                                                      mode='auto', min_delta=0.0001, cooldown=0, min_lr=0) \n",
    "earlyStopping = keras.callbacks.EarlyStopping(monitor='loss',min_delta=0.005,patience=5,verbose=0, mode='auto') \n",
    "\n",
    "#fit_generator(generator, steps_per_epoch=None, epochs=1, verbose=1, callbacks=None, validation_data=None, validation_steps=None, validation_freq=1, class_weight=None, max_queue_size=10, workers=1, use_multiprocessing=False, shuffle=True, initial_epoch=0)\n",
    "\n",
    "model.fit_generator(generator=myGene,steps_per_epoch=2000,epochs=25,\n",
    "                    #validation_data=myGeneTest, validation_steps=2000,\n",
    "                    callbacks=[model_checkpoint,reduceLROnPlateau,earlyStopping])"
   ]
  },
  {
   "cell_type": "markdown",
   "metadata": {},
   "source": [
    "### Train with npy file"
   ]
  },
  {
   "cell_type": "code",
   "execution_count": null,
   "metadata": {},
   "outputs": [],
   "source": [
    "#imgs_train,imgs_mask_train = geneTrainNpy(\"data/membrane/train/aug/\",\"data/membrane/train/aug/\")\n",
    "#model.fit(imgs_train, imgs_mask_train, batch_size=2, nb_epoch=10, verbose=1,validation_split=0.2, shuffle=True, callbacks=[model_checkpoint])"
   ]
  },
  {
   "cell_type": "markdown",
   "metadata": {},
   "source": [
    "### test your model and save predicted results"
   ]
  },
  {
   "cell_type": "code",
   "execution_count": 3,
   "metadata": {},
   "outputs": [
    {
     "name": "stderr",
     "output_type": "stream",
     "text": [
      "/gpfs/groups/gc056/APPRANTI/cj3272/anaconda3/envs/PY36/lib/python3.6/site-packages/skimage/transform/_warps.py:105: UserWarning: The default mode, 'constant', will be changed to 'reflect' in skimage 0.15.\n",
      "  warn(\"The default mode, 'constant', will be changed to 'reflect' in \"\n",
      "/gpfs/groups/gc056/APPRANTI/cj3272/anaconda3/envs/PY36/lib/python3.6/site-packages/skimage/transform/_warps.py:110: UserWarning: Anti-aliasing will be enabled by default in skimage 0.15 to avoid aliasing artifacts when down-sampling images.\n",
      "  warn(\"Anti-aliasing will be enabled by default in skimage 0.15 to \"\n"
     ]
    },
    {
     "name": "stdout",
     "output_type": "stream",
     "text": [
      "30/30 [==============================] - 2s 61ms/step\n"
     ]
    },
    {
     "name": "stderr",
     "output_type": "stream",
     "text": [
      "/gpfs/groups/gc056/APPRANTI/cj3272/anaconda3/envs/PY36/lib/python3.6/site-packages/skimage/util/dtype.py:141: UserWarning: Possible precision loss when converting from float32 to uint16\n",
      "  .format(dtypeobj_in, dtypeobj_out))\n"
     ]
    }
   ],
   "source": [
    "testGene = testGenerator(\"data/membrane/test\")\n",
    "model = unet()\n",
    "model.load_weights(\"unet_membrane.hdf5\")\n",
    "results = model.predict_generator(testGene,30,verbose=1)\n",
    "saveResult(\"data/membrane/test\",results)"
   ]
  }
 ],
 "metadata": {
  "kernelspec": {
   "display_name": "Python 3",
   "language": "python",
   "name": "python3"
  },
  "language_info": {
   "codemirror_mode": {
    "name": "ipython",
    "version": 3
   },
   "file_extension": ".py",
   "mimetype": "text/x-python",
   "name": "python",
   "nbconvert_exporter": "python",
   "pygments_lexer": "ipython3",
   "version": "3.6.8"
  }
 },
 "nbformat": 4,
 "nbformat_minor": 2
}
