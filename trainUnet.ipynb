{
 "cells": [
  {
   "cell_type": "code",
   "execution_count": 1,
   "metadata": {},
   "outputs": [
    {
     "name": "stderr",
     "output_type": "stream",
     "text": [
      "Using TensorFlow backend.\n"
     ]
    },
    {
     "name": "stdout",
     "output_type": "stream",
     "text": [
      "keras.__version__=2.2.4\n",
      "tf.__version__=1.12.0\n",
      "PIL.__version__=5.4.1\n",
      "np.__version__=1.16.2\n",
      "scipy.__version__=1.2.1\n",
      "Using GPU 2  Good luck...\n"
     ]
    }
   ],
   "source": [
    "import os\n",
    "os.environ[\"CUDA_VISIBLE_DEVICES\"] = \"2\"\n",
    "\n",
    "# set tf backend to allow memory to grow, instead of claiming everything\n",
    "import tensorflow as tf\n",
    "\n",
    "def get_session():\n",
    "    config = tf.ConfigProto()\n",
    "    config.gpu_options.allow_growth = True\n",
    "    return tf.Session(config=config)\n",
    "\n",
    "# set the modified tf session as backend in keras\n",
    "import keras\n",
    "keras.backend.tensorflow_backend.set_session(get_session())\n",
    "\n",
    "\n",
    "from model import *\n",
    "from data import *\n",
    "from keras import models\n",
    "from keras import layers\n",
    "from keras.layers import Input, Dense, Flatten, Reshape, Permute\n",
    "from keras.models import Model\n",
    "from keras.layers import Activation\n",
    "from keras.layers import Lambda\n",
    "import keras.backend as K\n",
    "import keras\n",
    "import PIL\n",
    "import scipy\n",
    "\n",
    "print ('keras.__version__='+str(keras.__version__))\n",
    "print ('tf.__version__='+str(tf.__version__))\n",
    "print ('PIL.__version__='+str(PIL.__version__))\n",
    "print ('np.__version__='+str(np.__version__))\n",
    "print ('scipy.__version__='+str(scipy.__version__))\n",
    "print ('Using GPU '+str(os.environ[\"CUDA_VISIBLE_DEVICES\"])+'  Good luck...')\n"
   ]
  },
  {
   "cell_type": "markdown",
   "metadata": {},
   "source": [
    "## Train your Unet with membrane data\n",
    "membrane data is in folder membrane/, it is a binary classification task.\n",
    "\n",
    "The input shape of image and mask are the same :(batch_size,rows,cols,channel = 1)"
   ]
  },
  {
   "cell_type": "markdown",
   "metadata": {},
   "source": [
    "### Train with data generator"
   ]
  },
  {
   "cell_type": "code",
   "execution_count": null,
   "metadata": {},
   "outputs": [
    {
     "name": "stdout",
     "output_type": "stream",
     "text": [
      "Epoch 1/25\n",
      "Found 30 images belonging to 1 classes.\n",
      "Found 30 images belonging to 1 classes.\n",
      "2000/2000 [==============================] - 368s 184ms/step - loss: 0.1852 - acc: 0.9185\n",
      "\n",
      "Epoch 00001: loss improved from inf to 0.18520, saving model to unet_membrane.hdf5\n",
      "Epoch 2/25\n",
      "2000/2000 [==============================] - 358s 179ms/step - loss: 0.1020 - acc: 0.9555\n",
      "\n",
      "Epoch 00002: loss improved from 0.18520 to 0.10203, saving model to unet_membrane.hdf5\n",
      "Epoch 3/25\n",
      "1182/2000 [================>.............] - ETA: 2:26 - loss: 0.0826 - acc: 0.9641"
     ]
    }
   ],
   "source": [
    "data_gen_args = dict(rotation_range=0.2,\n",
    "                    width_shift_range=0.05,\n",
    "                    height_shift_range=0.05,\n",
    "                    shear_range=0.05,\n",
    "                    zoom_range=0.05,\n",
    "                    horizontal_flip=True,\n",
    "                    fill_mode='nearest')\n",
    "\n",
    "myGene = trainGenerator(8,'data/membrane/train','image','label',data_gen_args,save_to_dir = None)\n",
    "\n",
    "model = unet()\n",
    "\n",
    "model_checkpoint = ModelCheckpoint('unet_membrane.hdf5', monitor='loss',verbose=1, save_best_only=True)\n",
    "reduceLROnPlateau = keras.callbacks.ReduceLROnPlateau(monitor='loss', factor=0.2, patience=3, verbose=0, \n",
    "                                                      mode='auto', min_delta=0.0001, cooldown=0, min_lr=0) \n",
    "earlyStopping = keras.callbacks.EarlyStopping(monitor='loss',min_delta=0.005,patience=5,verbose=0, mode='auto') \n",
    "\n",
    "#fit_generator(generator, steps_per_epoch=None, epochs=1, verbose=1, callbacks=None, validation_data=None, validation_steps=None, validation_freq=1, class_weight=None, max_queue_size=10, workers=1, use_multiprocessing=False, shuffle=True, initial_epoch=0)\n",
    "\n",
    "model.fit_generator(generator=myGene,steps_per_epoch=2000,epochs=25,\n",
    "                    #validation_data=myGeneTest, validation_steps=2000,\n",
    "                    callbacks=[model_checkpoint,reduceLROnPlateau,earlyStopping])"
   ]
  },
  {
   "cell_type": "markdown",
   "metadata": {},
   "source": [
    "### Train with npy file"
   ]
  },
  {
   "cell_type": "code",
   "execution_count": null,
   "metadata": {},
   "outputs": [],
   "source": [
    "#imgs_train,imgs_mask_train = geneTrainNpy(\"data/membrane/train/aug/\",\"data/membrane/train/aug/\")\n",
    "#model.fit(imgs_train, imgs_mask_train, batch_size=2, nb_epoch=10, verbose=1,validation_split=0.2, shuffle=True, callbacks=[model_checkpoint])"
   ]
  },
  {
   "cell_type": "markdown",
   "metadata": {},
   "source": [
    "### test your model and save predicted results"
   ]
  },
  {
   "cell_type": "code",
   "execution_count": null,
   "metadata": {},
   "outputs": [],
   "source": [
    "testGene = testGenerator(\"data/membrane/test\")\n",
    "model = unet()\n",
    "model.load_weights(\"unet_membrane.hdf5\")\n",
    "results = model.predict_generator(testGene,30,verbose=1)\n",
    "saveResult(\"data/membrane/test\",results)"
   ]
  }
 ],
 "metadata": {
  "kernelspec": {
   "display_name": "Python 3",
   "language": "python",
   "name": "python3"
  },
  "language_info": {
   "codemirror_mode": {
    "name": "ipython",
    "version": 3
   },
   "file_extension": ".py",
   "mimetype": "text/x-python",
   "name": "python",
   "nbconvert_exporter": "python",
   "pygments_lexer": "ipython3",
   "version": "3.6.8"
  }
 },
 "nbformat": 4,
 "nbformat_minor": 2
}
